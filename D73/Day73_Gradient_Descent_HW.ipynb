{
 "cells": [
  {
   "cell_type": "markdown",
   "metadata": {},
   "source": [
    "# 作業重點\n",
    "\n",
    "使用function y=(x+5)² 來練習學習率( leanrning rate ) 調整所造成的影響"
   ]
  },
  {
   "cell_type": "markdown",
   "metadata": {},
   "source": [
    "# 作業目標:\n",
    "    請嘗試使用不同的組合驗證 learning rate 對所需 iteration 的影響\n",
    "    lr = [0.1, 0.0001]\n",
    "    主要驗證 Lr 對於grandient 收斂的速度\n",
    "    "
   ]
  },
  {
   "cell_type": "code",
   "execution_count": 10,
   "metadata": {},
   "outputs": [],
   "source": [
    "cur_x = 3 # The algorithm starts at x=3\n",
    "precision = 0.000001 #This tells us when to stop the algorithm\n",
    "max_iters = 10000 # maximum number of iterations\n",
    "df = lambda x: 2*(x+5) #Gradient of our function "
   ]
  },
  {
   "cell_type": "code",
   "execution_count": 11,
   "metadata": {
    "scrolled": false,
    "tags": [
     "outputPrepend",
     "outputPrepend",
     "outputPrepend",
     "outputPrepend",
     "outputPrepend",
     "outputPrepend",
     "outputPrepend",
     "outputPrepend",
     "outputPrepend",
     "outputPrepend",
     "outputPrepend",
     "outputPrepend",
     "outputPrepend",
     "outputPrepend",
     "outputPrepend"
    ]
   },
   "outputs": [
    {
     "output_type": "stream",
     "name": "stdout",
     "text": " is 0.0001 \nIteration 9736 \nX value is -3.8588382805056103\nthe learning rate is 0.0001 \nIteration 9737 \nX value is -3.859066512849509\nthe learning rate is 0.0001 \nIteration 9738 \nX value is -3.8592946995469393\nthe learning rate is 0.0001 \nIteration 9739 \nX value is -3.85952284060703\nthe learning rate is 0.0001 \nIteration 9740 \nX value is -3.8597509360389086\nthe learning rate is 0.0001 \nIteration 9741 \nX value is -3.8599789858517006\nthe learning rate is 0.0001 \nIteration 9742 \nX value is -3.86020699005453\nthe learning rate is 0.0001 \nIteration 9743 \nX value is -3.8604349486565193\nthe learning rate is 0.0001 \nIteration 9744 \nX value is -3.8606628616667877\nthe learning rate is 0.0001 \nIteration 9745 \nX value is -3.8608907290944545\nthe learning rate is 0.0001 \nIteration 9746 \nX value is -3.8611185509486354\nthe learning rate is 0.0001 \nIteration 9747 \nX value is -3.861346327238446\nthe learning rate is 0.0001 \nIteration 9748 \nX value is -3.861574057972998\nthe learning rate is 0.0001 \nIteration 9749 \nX value is -3.8618017431614033\nthe learning rate is 0.0001 \nIteration 9750 \nX value is -3.862029382812771\nthe learning rate is 0.0001 \nIteration 9751 \nX value is -3.8622569769362083\nthe learning rate is 0.0001 \nIteration 9752 \nX value is -3.862484525540821\nthe learning rate is 0.0001 \nIteration 9753 \nX value is -3.8627120286357126\nthe learning rate is 0.0001 \nIteration 9754 \nX value is -3.8629394862299855\nthe learning rate is 0.0001 \nIteration 9755 \nX value is -3.8631668983327394\nthe learning rate is 0.0001 \nIteration 9756 \nX value is -3.863394264953073\nthe learning rate is 0.0001 \nIteration 9757 \nX value is -3.863621586100082\nthe learning rate is 0.0001 \nIteration 9758 \nX value is -3.863848861782862\nthe learning rate is 0.0001 \nIteration 9759 \nX value is -3.8640760920105053\nthe learning rate is 0.0001 \nIteration 9760 \nX value is -3.864303276792103\nthe learning rate is 0.0001 \nIteration 9761 \nX value is -3.8645304161367444\nthe learning rate is 0.0001 \nIteration 9762 \nX value is -3.864757510053517\nthe learning rate is 0.0001 \nIteration 9763 \nX value is -3.8649845585515066\nthe learning rate is 0.0001 \nIteration 9764 \nX value is -3.8652115616397964\nthe learning rate is 0.0001 \nIteration 9765 \nX value is -3.8654385193274683\nthe learning rate is 0.0001 \nIteration 9766 \nX value is -3.865665431623603\nthe learning rate is 0.0001 \nIteration 9767 \nX value is -3.865892298537278\nthe learning rate is 0.0001 \nIteration 9768 \nX value is -3.866119120077571\nthe learning rate is 0.0001 \nIteration 9769 \nX value is -3.8663458962535553\nthe learning rate is 0.0001 \nIteration 9770 \nX value is -3.8665726270743046\nthe learning rate is 0.0001 \nIteration 9771 \nX value is -3.8667993125488898\nthe learning rate is 0.0001 \nIteration 9772 \nX value is -3.86702595268638\nthe learning rate is 0.0001 \nIteration 9773 \nX value is -3.8672525474958426\nthe learning rate is 0.0001 \nIteration 9774 \nX value is -3.8674790969863433\nthe learning rate is 0.0001 \nIteration 9775 \nX value is -3.867705601166946\nthe learning rate is 0.0001 \nIteration 9776 \nX value is -3.8679320600467126\nthe learning rate is 0.0001 \nIteration 9777 \nX value is -3.868158473634703\nthe learning rate is 0.0001 \nIteration 9778 \nX value is -3.8683848419399762\nthe learning rate is 0.0001 \nIteration 9779 \nX value is -3.8686111649715884\nthe learning rate is 0.0001 \nIteration 9780 \nX value is -3.8688374427385943\nthe learning rate is 0.0001 \nIteration 9781 \nX value is -3.8690636752500467\nthe learning rate is 0.0001 \nIteration 9782 \nX value is -3.8692898625149965\nthe learning rate is 0.0001 \nIteration 9783 \nX value is -3.8695160045424934\nthe learning rate is 0.0001 \nIteration 9784 \nX value is -3.869742101341585\nthe learning rate is 0.0001 \nIteration 9785 \nX value is -3.8699681529213166\nthe learning rate is 0.0001 \nIteration 9786 \nX value is -3.8701941592907323\nthe learning rate is 0.0001 \nIteration 9787 \nX value is -3.870420120458874\nthe learning rate is 0.0001 \nIteration 9788 \nX value is -3.8706460364347826\nthe learning rate is 0.0001 \nIteration 9789 \nX value is -3.8708719072274955\nthe learning rate is 0.0001 \nIteration 9790 \nX value is -3.87109773284605\nthe learning rate is 0.0001 \nIteration 9791\nX value is -3.8713235132994805\nthe learning rate is 0.0001 \nIteration 9792 \nX value is -3.871549248596821\nthe learning rate is 0.0001 \nIteration 9793 \nX value is -3.8717749387471017\nthe learning rate is 0.0001 \nIteration 9794 \nX value is -3.8720005837593523\nthe learning rate is 0.0001 \nIteration 9795 \nX value is -3.8722261836426006\nthe learning rate is 0.0001 \nIteration 9796 \nX value is -3.8724517384058723\nthe learning rate is 0.0001 \nIteration 9797 \nX value is -3.8726772480581912\nthe learning rate is 0.0001 \nIteration 9798 \nX value is -3.8729027126085795\nthe learning rate is 0.0001 \nIteration 9799 \nX value is -3.873128132066058\nthe learning rate is 0.0001 \nIteration 9800 \nX value is -3.8733535064396447\nthe learning rate is 0.0001 \nIteration 9801 \nX value is -3.873578835738357\nthe learning rate is 0.0001 \nIteration 9802 \nX value is -3.873804119971209\nthe learning rate is 0.0001 \nIteration 9803 \nX value is -3.874029359147215\nthe learning rate is 0.0001 \nIteration 9804 \nX value is -3.874254553275385\nthe learning rate is 0.0001 \nIteration 9805 \nX value is -3.87447970236473\nthe learning rate is 0.0001 \nIteration 9806 \nX value is -3.874704806424257\nthe learning rate is 0.0001 \nIteration 9807 \nX value is -3.8749298654629722\nthe learning rate is 0.0001 \nIteration 9808 \nX value is -3.87515487948988\nthe learning rate is 0.0001 \nIteration 9809 \nX value is -3.875379848513982\nthe learning rate is 0.0001 \nIteration 9810 \nX value is -3.8756047725442793\nthe learning rate is 0.0001 \nIteration 9811 \nX value is -3.8758296515897706\nthe learning rate is 0.0001 \nIteration 9812 \nX value is -3.8760544856594525\nthe learning rate is 0.0001 \nIteration 9813 \nX value is -3.8762792747623207\nthe learning rate is 0.0001 \nIteration 9814 \nX value is -3.8765040189073683\nthe learning rate is 0.0001 \nIteration 9815 \nX value is -3.8767287181035868\nthe learning rate is 0.0001 \nIteration 9816 \nX value is -3.876953372359966\nthe learning rate is 0.0001 \nIteration 9817 \nX value is -3.877177981685494\nthe learning rate is 0.0001 \nIteration 9818 \nX value is -3.8774025460891566\nthe learning rate is 0.0001 \nIteration 9819 \nX value is -3.8776270655799387\nthe learning rate is 0.0001 \nIteration 9820 \nX value is -3.8778515401668225\nthe learning rate is 0.0001 \nIteration 9821 \nX value is -3.878075969858789\nthe learning rate is 0.0001 \nIteration 9822 \nX value is -3.8783003546648174\nthe learning rate is 0.0001 \nIteration 9823 \nX value is -3.8785246945938843\nthe learning rate is 0.0001 \nIteration 9824 \nX value is -3.8787489896549654\nthe learning rate is 0.0001 \nIteration 9825 \nX value is -3.8789732398570345\nthe learning rate is 0.0001 \nIteration 9826 \nX value is -3.879197445209063\nthe learning rate is 0.0001 \nIteration 9827 \nX value is -3.879421605720021\nthe learning rate is 0.0001 \nIteration 9828 \nX value is -3.879645721398877\nthe learning rate is 0.0001 \nIteration 9829 \nX value is -3.8798697922545973\nthe learning rate is 0.0001 \nIteration 9830 \nX value is -3.8800938182961464\nthe learning rate is 0.0001 \nIteration 9831 \nX value is -3.880317799532487\nthe learning rate is 0.0001 \nIteration 9832 \nX value is -3.8805417359725807\nthe learning rate is 0.0001 \nIteration 9833 \nX value is -3.880765627625386\nthe learning rate is 0.0001 \nIteration 9834 \nX value is -3.880989474499861\nthe learning rate is 0.0001 \nIteration 9835 \nX value is -3.8812132766049614\nthe learning rate is 0.0001 \nIteration 9836 \nX value is -3.8814370339496405\nthe learning rate is 0.0001 \nIteration 9837 \nX value is -3.8816607465428503\nthe learning rate is 0.0001 \nIteration 9838 \nX value is -3.8818844143935416\nthe learning rate is 0.0001 \nIteration 9839 \nX value is -3.8821080375106627\nthe learning rate is 0.0001 \nIteration 9840 \nX value is -3.8823316159031607\nthe learning rate is 0.0001 \nIteration 9841 \nX value is -3.88255514957998\nthe learning rate is 0.0001 \nIteration 9842 \nX value is -3.882778638550064\nthe learning rate is 0.0001 \nIteration 9843 \nX value is -3.883002082822354\nthe learning rate is 0.0001 \nIteration 9844 \nX value is -3.8832254824057895\nthe learning rate is 0.0001 \nIteration 9845 \nX value is -3.883448837309308\nthe learning rate is 0.0001 \nIteration 9846 \nX value is -3.883672147541846\nthe learning rate is 0.0001 \nIteration 9847 \nX value is -3.8838954131123375\nthe learning rate is 0.0001 \nIteration 9848 \nX value is -3.884118634029715\nthe learning rate is 0.0001 \nIteration 9849 \nX value is -3.884341810302909\nthe learning rate is 0.0001 \nIteration 9850 \nX value is -3.884564941940848\nthe learning rate is 0.0001 \nIteration 9851 \nX value is -3.88478802895246\nthe learning rate is 0.0001 \nIteration 9852 \nX value is -3.8850110713466695\nthe learning rate is 0.0001 \nIteration 9853 \nX value is -3.8852340691324003\nthe learning rate is 0.0001 \nIteration 9854 \nX value is -3.885457022318574\nthe learning rate is 0.0001 \nIteration 9855 \nX value is -3.88567993091411\nthe learning rate is 0.0001 \nIteration 9856 \nX value is -3.8859027949279272\nthe learning rate is 0.0001 \nIteration 9857 \nX value is -3.8861256143689418\nthe learning rate is 0.0001 \nIteration 9858 \nX value is -3.886348389246068\nthe learning rate is 0.0001 \nIteration 9859 \nX value is -3.886571119568219\nthe learning rate is 0.0001 \nIteration 9860 \nX value is -3.8867938053443054\nthe learning rate is 0.0001 \nIteration 9861 \nX value is -3.8870164465832366\nthe learning rate is 0.0001 \nIteration 9862 \nX value is -3.88723904329392\nthe learning rate is 0.0001 \nIteration 9863 \nX value is -3.887461595485261\nthe learning rate is 0.0001 \nIteration 9864 \nX value is -3.887684103166164\nthe learning rate is 0.0001 \nIteration 9865 \nX value is -3.887906566345531\nthe learning rate is 0.0001 \nIteration 9866 \nX value is -3.888128985032262\nthe learning rate is 0.0001 \nIteration 9867 \nX value is -3.8883513592352554\nthe learning rate is 0.0001 \nIteration 9868 \nX value is -3.8885736889634086\nthe learning rate is 0.0001 \nIteration 9869 \nX value is -3.8887959742256157\nthe learning rate is 0.0001 \nIteration 9870 \nX value is -3.8890182150307706\nthe learning rate is 0.0001 \nIteration 9871 \nX value is -3.8892404113877643\nthe learning rate is 0.0001 \nIteration 9872 \nX value is -3.8894625633054867\nthe learning rate is 0.0001 \nIteration 9873 \nX value is -3.8896846707928256\nthe learning rate is 0.0001 \nIteration 9874 \nX value is -3.889906733858667\nthe learning rate is 0.0001 \nIteration 9875 \nX value is -3.8901287525118953\nthe learning rate is 0.0001 \nIteration 9876 \nX value is -3.890350726761393\nthe learning rate is 0.0001 \nIteration 9877 \nX value is -3.890572656616041\nthe learning rate is 0.0001 \nIteration 9878 \nX value is -3.8907945420847176\nthe learning rate is 0.0001 \nIteration 9879 \nX value is -3.8910163831763005\nthe learning rate is 0.0001 \nIteration 9880 \nX value is -3.8912381798996654\nthe learning rate is 0.0001 \nIteration 9881 \nX value is -3.8914599322636856\nthe learning rate is 0.0001 \nIteration 9882 \nX value is -3.8916816402772327\nthe learning rate is 0.0001 \nIteration 9883 \nX value is -3.8919033039491775\nthe learning rate is 0.0001 \nIteration 9884 \nX value is -3.8921249232883874\nthe learning rate is 0.0001 \nIteration 9885 \nX value is -3.8923464983037297\nthe learning rate is 0.0001 \nIteration 9886 \nX value is -3.8925680290040687\nthe learning rate is 0.0001 \nIteration 9887 \nX value is -3.892789515398268\nthe learning rate is 0.0001 \nIteration 9888 \nX value is -3.8930109574951883\nthe learning rate is 0.0001 \nIteration 9889 \nX value is -3.8932323553036894\nthe learning rate is 0.0001 \nIteration 9890 \nX value is -3.8934537088326286\nthe learning rate is 0.0001 \nIteration 9891 \nX value is -3.893675018090862\nthe learning rate is 0.0001 \nIteration 9892 \nX value is -3.893896283087244\nthe learning rate is 0.0001 \nIteration 9893 \nX value is -3.8941175038306266\nthe learning rate is 0.0001 \nIteration 9894 \nX value is -3.8943386803298603\nthe learning rate is 0.0001 \nIteration 9895 \nX value is -3.894559812593794\nthe learning rate is 0.0001 \nIteration 9896 \nX value is -3.8947809006312752\nthe learning rate is 0.0001 \nIteration 9897 \nX value is -3.895001944451149\nthe learning rate is 0.0001 \nIteration 9898 \nX value is -3.8952229440622586\nthe learning rate is 0.0001 \nIteration 9899 \nX value is -3.895443899473446\nthe learning rate is 0.0001 \nIteration 9900 \nX value is -3.8956648106935514\nthe learning rate is 0.0001 \nIteration 9901 \nX value is -3.8958856777314126\nthe learning rate is 0.0001 \nIteration 9902 \nX value is -3.896106500595866\nthe learning rate is 0.0001 \nIteration 9903 \nX value is -3.896327279295747\nthe learning rate is 0.0001 \nIteration 9904 \nX value is -3.8965480138398876\nthe learning rate is 0.0001 \nIteration 9905 \nX value is -3.8967687042371195\nthe learning rate is 0.0001 \nIteration 9906 \nX value is -3.896989350496272\nthe learning rate is 0.0001 \nIteration 9907 \nX value is -3.8972099526261728\nthe learning rate is 0.0001 \nIteration 9908 \nX value is -3.8974305106356475\nthe learning rate is 0.0001 \nIteration 9909 \nX value is -3.8976510245335203\nthe learning rate is 0.0001 \nIteration 9910 \nX value is -3.8978714943286135\nthe learning rate is 0.0001 \nIteration 9911 \nX value is -3.898091920029748\nthe learning rate is 0.0001 \nIteration 9912 \nX value is -3.898312301645742\nthe learning rate is 0.0001 \nIteration 9913 \nX value is -3.898532639185413\nthe learning rate is 0.0001 \nIteration 9914 \nX value is -3.898752932657576\nthe learning rate is 0.0001 \nIteration 9915 \nX value is -3.8989731820710447\nthe learning rate is 0.0001 \nIteration 9916 \nX value is -3.8991933874346305\nthe learning rate is 0.0001 \nIteration 9917 \nX value is -3.8994135487571437\nthe learning rate is 0.0001 \nIteration 9918 \nX value is -3.8996336660473925\nthe learning rate is 0.0001 \nIteration 9919 \nX value is -3.899853739314183\nthe learning rate is 0.0001 \nIteration 9920 \nX value is -3.9000737685663203\nthe learning rate is 0.0001 \nIteration 9921 \nX value is -3.900293753812607\nthe learning rate is 0.0001 \nIteration 9922 \nX value is -3.9005136950618446\nthe learning rate is 0.0001 \nIteration 9923 \nX value is -3.9007335923228323\nthe learning rate is 0.0001 \nIteration 9924 \nX value is -3.900953445604368\nthe learning rate is 0.0001 \nIteration 9925 \nX value is -3.901173254915247\nthe learning rate is 0.0001 \nIteration 9926 \nX value is -3.901393020264264\nthe learning rate is 0.0001 \nIteration 9927 \nX value is -3.901612741660211\nthe learning rate is 0.0001 \nIteration 9928 \nX value is -3.901832419111879\nthe learning rate is 0.0001 \nIteration 9929 \nX value is -3.902052052628057\nthe learning rate is 0.0001 \nIteration 9930 \nX value is -3.9022716422175314\nthe learning rate is 0.0001 \nIteration 9931 \nX value is -3.9024911878890878\nthe learning rate is 0.0001 \nIteration 9932 \nX value is -3.90271068965151\nthe learning rate is 0.0001 \nIteration 9933 \nX value is -3.9029301475135796\nthe learning rate is 0.0001 \nIteration 9934 \nX value is -3.903149561484077\nthe learning rate is 0.0001 \nIteration 9935 \nX value is -3.90336893157178\nthe learning rate is 0.0001 \nIteration 9936 \nX value is -3.903588257785466\nthe learning rate is 0.0001 \nIteration 9937 \nX value is -3.9038075401339087\nthe learning rate is 0.0001 \nIteration 9938 \nX value is -3.904026778625882\nthe learning rate is 0.0001 \nIteration 9939 \nX value is -3.904245973270157\nthe learning rate is 0.0001 \nIteration 9940 \nX value is -3.904465124075503\nthe learning rate is 0.0001 \nIteration 9941 \nX value is -3.9046842310506875\nthe learning rate is 0.0001 \nIteration 9942 \nX value is -3.9049032942044772\nthe learning rate is 0.0001 \nIteration 9943 \nX value is -3.9051223135456365\nthe learning rate is 0.0001 \nIteration 9944 \nX value is -3.9053412890829273\nthe learning rate is 0.0001 \nIteration 9945 \nX value is -3.9055602208251106\nthe learning rate is 0.0001 \nIteration 9946 \nX value is -3.9057791087809455\nthe learning rate is 0.0001 \nIteration 9947 \nX value is -3.9059979529591895\nthe learning rate is 0.0001 \nIteration 9948 \nX value is -3.906216753368598\nthe learning rate is 0.0001 \nIteration 9949 \nX value is -3.906435510017924\nthe learning rate is 0.0001 \nIteration 9950 \nX value is -3.9066542229159205\nthe learning rate is 0.0001 \nIteration 9951 \nX value is -3.906872892071337\nthe learning rate is 0.0001 \nIteration 9952 \nX value is -3.907091517492923\nthe learning rate is 0.0001 \nIteration 9953 \nX value is -3.9073100991894245\nthe learning rate is 0.0001 \nIteration 9954 \nX value is -3.9075286371695865\nthe learning rate is 0.0001 \nIteration 9955 \nX value is -3.907747131442153\nthe learning rate is 0.0001 \nIteration 9956 \nX value is -3.9079655820158643\nthe learning rate is 0.0001 \nIteration 9957 \nX value is -3.908183988899461\nthe learning rate is 0.0001 \nIteration 9958 \nX value is -3.9084023521016813\nthe learning rate is 0.0001 \nIteration 9959 \nX value is -3.908620671631261\nthe learning rate is 0.0001 \nIteration 9960 \nX value is -3.9088389474969345\nthe learning rate is 0.0001 \nIteration 9961 \nX value is -3.909057179707435\nthe learning rate is 0.0001 \nIteration 9962 \nX value is -3.9092753682714934\nthe learning rate is 0.0001 \nIteration 9963 \nX value is -3.909493513197839\nthe learning rate is 0.0001 \nIteration 9964 \nX value is -3.9097116144951998\nthe learning rate is 0.0001 \nIteration 9965 \nX value is -3.909929672172301\nthe learning rate is 0.0001 \nIteration 9966 \nX value is -3.9101476862378663\nthe learning rate is 0.0001 \nIteration 9967 \nX value is -3.910365656700619\nthe learning rate is 0.0001 \nIteration 9968 \nX value is -3.9105835835692786\nthe learning rate is 0.0001 \nIteration 9969 \nX value is -3.910801466852565\nthe learning rate is 0.0001 \nIteration 9970 \nX value is -3.9110193065591945\nthe learning rate is 0.0001 \nIteration 9971 \nX value is -3.9112371026978825\nthe learning rate is 0.0001 \nIteration 9972 \nX value is -3.9114548552773427\nthe learning rate is 0.0001 \nIteration 9973 \nX value is -3.9116725643062873\nthe learning rate is 0.0001 \nIteration 9974 \nX value is -3.911890229793426\nthe learning rate is 0.0001 \nIteration 9975 \nX value is -3.9121078517474674\nthe learning rate is 0.0001 \nIteration 9976 \nX value is -3.912325430177118\nthe learning rate is 0.0001 \nIteration 9977 \nX value is -3.9125429650910823\nthe learning rate is 0.0001 \nIteration 9978 \nX value is -3.9127604564980643\nthe learning rate is 0.0001 \nIteration 9979 \nX value is -3.9129779044067647\nthe learning rate is 0.0001 \nIteration 9980 \nX value is -3.9131953088258835\nthe learning rate is 0.0001 \nIteration 9981 \nX value is -3.9134126697641185\nthe learning rate is 0.0001 \nIteration 9982 \nX value is -3.913629987230166\nthe learning rate is 0.0001 \nIteration 9983 \nX value is -3.91384726123272\nthe learning rate is 0.0001 \nIteration 9984 \nX value is -3.9140644917804734\nthe learning rate is 0.0001 \nIteration 9985 \nX value is -3.9142816788821175\nthe learning rate is 0.0001 \nIteration 9986 \nX value is -3.9144988225463413\nthe learning rate is 0.0001 \nIteration 9987 \nX value is -3.914715922781832\nthe learning rate is 0.0001 \nIteration 9988 \nX value is -3.9149329795972756\nthe learning rate is 0.0001 \nIteration 9989 \nX value is -3.9151499930013562\nthe learning rate is 0.0001 \nIteration 9990 \nX value is -3.915366963002756\nthe learning rate is 0.0001 \nIteration 9991 \nX value is -3.915583889610155\nthe learning rate is 0.0001 \nIteration 9992 \nX value is -3.9158007728322333\nthe learning rate is 0.0001 \nIteration 9993 \nX value is -3.916017612677667\nthe learning rate is 0.0001 \nIteration 9994 \nX value is -3.9162344091551313\nthe learning rate is 0.0001 \nIteration 9995 \nX value is -3.9164511622733005\nthe learning rate is 0.0001 \nIteration 9996 \nX value is -3.9166678720408457\nthe learning rate is 0.0001 \nIteration 9997 \nX value is -3.9168845384664377\nthe learning rate is 0.0001 \nIteration 9998 \nX value is -3.9171011615587443\nthe learning rate is 0.0001 \nIteration 9999 \nX value is -3.9173177413264324\nthe learning rate is 0.0001 \nIteration 10000 \nX value is -3.917534277778167\n"
    }
   ],
   "source": [
    "'''\n",
    "需要執行初始值設定, 下列三個\n",
    "# Learning rate\n",
    "#iteration counter\n",
    "#Step size  \n",
    "'''\n",
    "previous_step_size = 1\n",
    "iters = 0\n",
    "lr = 0.0001\n",
    "\n",
    "iters_history = [iters]\n",
    "x_history = [cur_x]\n",
    "\n",
    "while previous_step_size > precision and iters < max_iters:\n",
    "    prev_x = cur_x\n",
    "    cur_x = cur_x - lr * df(prev_x)\n",
    "    previous_step_size = abs(cur_x - prev_x)\n",
    "\n",
    "    iters += 1\n",
    "    print(\"the learning rate is\",lr, \"\\nIteration\",iters,\"\\nX value is\",cur_x) #Print iterations\n",
    "    iters_history.append(iters)\n",
    "    x_history.append(cur_x)\n"
   ]
  },
  {
   "cell_type": "code",
   "execution_count": 12,
   "metadata": {},
   "outputs": [
    {
     "output_type": "stream",
     "name": "stdout",
     "text": "Totally iteations:  10000\nThe local minimum occurs at -3.917534277778167\n"
    }
   ],
   "source": [
    "print(\"Totally iteations: \", iters)\n",
    "print(\"The local minimum occurs at\", cur_x)"
   ]
  },
  {
   "cell_type": "code",
   "execution_count": null,
   "metadata": {},
   "outputs": [],
   "source": []
  }
 ],
 "metadata": {
  "kernelspec": {
   "display_name": "Python 3",
   "language": "python",
   "name": "python3"
  },
  "language_info": {
   "codemirror_mode": {
    "name": "ipython",
    "version": 3
   },
   "file_extension": ".py",
   "mimetype": "text/x-python",
   "name": "python",
   "nbconvert_exporter": "python",
   "pygments_lexer": "ipython3",
   "version": "3.6.9-final"
  }
 },
 "nbformat": 4,
 "nbformat_minor": 2
}