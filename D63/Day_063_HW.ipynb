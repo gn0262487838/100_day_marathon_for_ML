{
 "cells": [
  {
   "cell_type": "markdown",
   "metadata": {},
   "source": [
    "# 作業\n",
    "* 在精簡深度學習的方式上 : 卷積類神經 (CNN) 採用像素遠近，而遞歸類神經 (RNN) 採用著則是時間遠近\n",
    "* 那麼，既然有著類似的設計精神，兩者是否有可能互換應用呢?"
   ]
  },
  {
   "cell_type": "markdown",
   "metadata": {
    "collapsed": true
   },
   "source": [
    "原則上可以互換使用，但因為RNN先天不良的設計，在圖片處理上無法發會到CNN平行運算的能力，故使用RNN來訓練一個影像辨識的神蹟網路是不切實際的。\n",
    "\n",
    "那麼CNN去訓練語言模型呢?\n",
    "因為語意是有順序的，使用傳統的CNN是比較不明智的選擇，但使用調整過(變形)的CNN也是可以做到NLP的喔~"
   ]
  }
 ],
 "metadata": {
  "kernelspec": {
   "display_name": "Python 3",
   "language": "python",
   "name": "python3"
  },
  "language_info": {
   "codemirror_mode": {
    "name": "ipython",
    "version": 3
   },
   "file_extension": ".py",
   "mimetype": "text/x-python",
   "name": "python",
   "nbconvert_exporter": "python",
   "pygments_lexer": "ipython3",
   "version": "3.6.1"
  }
 },
 "nbformat": 4,
 "nbformat_minor": 2
}