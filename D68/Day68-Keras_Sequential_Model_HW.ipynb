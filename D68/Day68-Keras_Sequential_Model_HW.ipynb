{
 "cells": [
  {
   "cell_type": "markdown",
   "metadata": {},
   "source": [
    "\n",
    "# 作業目標:\n",
    "    \n",
    "    了解keras 模型架構\n",
    "\n",
    "\n",
    "# 作業重點:\n",
    "    \n",
    "    請修改input shape: (Conv2D(64, (3, 3))的設定, 新增一層 Dense 並觀看 model.summary 的輸出\n"
   ]
  },
  {
   "cell_type": "code",
   "execution_count": 3,
   "metadata": {},
   "outputs": [],
   "source": [
    "# 載入必須使用的 Library\n",
    "import tensorflow as tf\n",
    "from tensorflow.keras.datasets import cifar10\n",
    "from tensorflow.keras.models import Sequential, load_model\n",
    "from tensorflow.keras.layers import (Dense, \n",
    "                                     Dropout, \n",
    "                                     Activation, \n",
    "                                     Flatten,\n",
    "                                     Conv2D, \n",
    "                                     MaxPooling2D)\n"
   ]
  },
  {
   "cell_type": "code",
   "execution_count": 4,
   "metadata": {},
   "outputs": [
    {
     "output_type": "stream",
     "name": "stdout",
     "text": "Downloading data from https://www.cs.toronto.edu/~kriz/cifar-10-python.tar.gz\n170500096/170498071 [==============================] - 84s 0us/step\n"
    }
   ],
   "source": [
    "(x_train, y_train), (x_test, y_test) = cifar10.load_data()"
   ]
  },
  {
   "cell_type": "code",
   "execution_count": 10,
   "metadata": {},
   "outputs": [
    {
     "output_type": "stream",
     "name": "stdout",
     "text": "Model: \"sequential_2\"\n_________________________________________________________________\nLayer (type)                 Output Shape              Param #   \n=================================================================\nconv2d_2 (Conv2D)            (None, 32, 32, 64)        4864      \n_________________________________________________________________\nflatten_2 (Flatten)          (None, 65536)             0         \n_________________________________________________________________\ndense_5 (Dense)              (None, 512)               33554944  \n_________________________________________________________________\nactivation_3 (Activation)    (None, 512)               0         \n_________________________________________________________________\ndropout_3 (Dropout)          (None, 512)               0         \n_________________________________________________________________\ndense_6 (Dense)              (None, 128)               65664     \n_________________________________________________________________\ndropout_4 (Dropout)          (None, 128)               0         \n_________________________________________________________________\ndense_7 (Dense)              (None, 2)                 258       \n_________________________________________________________________\nactivation_4 (Activation)    (None, 2)                 0         \n=================================================================\nTotal params: 33,625,730\nTrainable params: 33,625,730\nNon-trainable params: 0\n_________________________________________________________________\n"
    }
   ],
   "source": [
    "# build our CNN model, 多加幾層\n",
    "num_classes = 2\n",
    "\n",
    "model = Sequential()\n",
    "model.add(Conv2D(64, (5, 5), \n",
    "                        padding='same',\n",
    "                        input_shape=x_train.shape[1:]))\n",
    "model.add(Flatten())\n",
    "model.add(Dense(512))\n",
    "model.add(Activation('relu'))\n",
    "model.add(Dropout(0.5))\n",
    "model.add(Dense(128, activation=\"relu\"))\n",
    "model.add(Dropout(0.5))\n",
    "model.add(Dense(num_classes))\n",
    "model.add(Activation('softmax'))\n",
    "model.summary()"
   ]
  },
  {
   "cell_type": "code",
   "execution_count": null,
   "metadata": {},
   "outputs": [],
   "source": []
  }
 ],
 "metadata": {
  "kernelspec": {
   "display_name": "Python 3",
   "language": "python",
   "name": "python3"
  },
  "language_info": {
   "codemirror_mode": {
    "name": "ipython",
    "version": 3
   },
   "file_extension": ".py",
   "mimetype": "text/x-python",
   "name": "python",
   "nbconvert_exporter": "python",
   "pygments_lexer": "ipython3",
   "version": "3.6.9-final"
  }
 },
 "nbformat": 4,
 "nbformat_minor": 2
}