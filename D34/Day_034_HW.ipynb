{
 "cells": [
  {
   "cell_type": "markdown",
   "metadata": {},
   "source": [
    "## 練習時間\n",
    "假設我們資料中類別的數量並不均衡，在評估準確率時可能會有所偏頗，試著切分出 y_test 中，0 類別與 1 類別的數量是一樣的 (亦即 y_test 的類別是均衡的)"
   ]
  },
  {
   "cell_type": "code",
   "execution_count": 27,
   "metadata": {},
   "outputs": [],
   "source": [
    "import numpy as np\n",
    "X = np.arange(1000).reshape(200, 5)\n",
    "y = np.zeros(200)\n",
    "y[:40] = 1"
   ]
  },
  {
   "cell_type": "code",
   "execution_count": 28,
   "metadata": {},
   "outputs": [
    {
     "data": {
      "text/plain": [
       "array([1., 1., 1., 1., 1., 1., 1., 1., 1., 1., 1., 1., 1., 1., 1., 1., 1.,\n",
       "       1., 1., 1., 1., 1., 1., 1., 1., 1., 1., 1., 1., 1., 1., 1., 1., 1.,\n",
       "       1., 1., 1., 1., 1., 1., 0., 0., 0., 0., 0., 0., 0., 0., 0., 0., 0.,\n",
       "       0., 0., 0., 0., 0., 0., 0., 0., 0., 0., 0., 0., 0., 0., 0., 0., 0.,\n",
       "       0., 0., 0., 0., 0., 0., 0., 0., 0., 0., 0., 0., 0., 0., 0., 0., 0.,\n",
       "       0., 0., 0., 0., 0., 0., 0., 0., 0., 0., 0., 0., 0., 0., 0., 0., 0.,\n",
       "       0., 0., 0., 0., 0., 0., 0., 0., 0., 0., 0., 0., 0., 0., 0., 0., 0.,\n",
       "       0., 0., 0., 0., 0., 0., 0., 0., 0., 0., 0., 0., 0., 0., 0., 0., 0.,\n",
       "       0., 0., 0., 0., 0., 0., 0., 0., 0., 0., 0., 0., 0., 0., 0., 0., 0.,\n",
       "       0., 0., 0., 0., 0., 0., 0., 0., 0., 0., 0., 0., 0., 0., 0., 0., 0.,\n",
       "       0., 0., 0., 0., 0., 0., 0., 0., 0., 0., 0., 0., 0., 0., 0., 0., 0.,\n",
       "       0., 0., 0., 0., 0., 0., 0., 0., 0., 0., 0., 0., 0.])"
      ]
     },
     "execution_count": 28,
     "metadata": {},
     "output_type": "execute_result"
    }
   ],
   "source": [
    "y"
   ]
  },
  {
   "cell_type": "markdown",
   "metadata": {},
   "source": [
    "可以看見 y 類別中，有 160 個 類別 0，40 個 類別 1 ，請試著使用 train_test_split 函數，切分出 y_test 中能各有 10 筆類別 0 與 10 筆類別 1 。(HINT: 參考函數中的 test_size，可針對不同類別各自作切分後再合併)"
   ]
  },
  {
   "cell_type": "code",
   "execution_count": 29,
   "metadata": {},
   "outputs": [
    {
     "data": {
      "text/plain": [
       "array([[ 10,  11,  12,  13,  14],\n",
       "       [155, 156, 157, 158, 159],\n",
       "       [ 15,  16,  17,  18,  19],\n",
       "       [105, 106, 107, 108, 109],\n",
       "       [135, 136, 137, 138, 139],\n",
       "       [145, 146, 147, 148, 149],\n",
       "       [110, 111, 112, 113, 114],\n",
       "       [195, 196, 197, 198, 199],\n",
       "       [ 95,  96,  97,  98,  99],\n",
       "       [130, 131, 132, 133, 134],\n",
       "       [345, 346, 347, 348, 349],\n",
       "       [410, 411, 412, 413, 414],\n",
       "       [270, 271, 272, 273, 274],\n",
       "       [655, 656, 657, 658, 659],\n",
       "       [605, 606, 607, 608, 609],\n",
       "       [295, 296, 297, 298, 299],\n",
       "       [420, 421, 422, 423, 424],\n",
       "       [255, 256, 257, 258, 259],\n",
       "       [400, 401, 402, 403, 404],\n",
       "       [685, 686, 687, 688, 689]])"
      ]
     },
     "execution_count": 29,
     "metadata": {},
     "output_type": "execute_result"
    }
   ],
   "source": [
    "from sklearn.model_selection import train_test_split\n",
    "\n",
    "# way1\n",
    "# random_state 沒有設置的話，每次切出來的東西都不一樣喔!!!\n",
    "train_1_X, test_1_X, train_1_Y, test_1_Y = train_test_split(X[:40], y[:40], test_size=10, random_state=1)\n",
    "\n",
    "train_2_X, test_2_X, train_2_Y, test_2_Y = train_test_split(X[40:], y[40:], test_size=10, random_state=1)\n",
    "\n",
    "train_X = np.concatenate([train_1_X, train_2_X], axis=0)\n",
    "test_X = np.concatenate([test_1_X, test_2_X], axis=0)\n",
    "\n",
    "train_Y = np.concatenate([train_1_Y, train_2_Y], axis=0)\n",
    "test_Y = np.concatenate([test_1_Y, test_2_Y], axis=0)\n",
    "test_X"
   ]
  },
  {
   "cell_type": "code",
   "execution_count": 32,
   "metadata": {},
   "outputs": [
    {
     "data": {
      "text/plain": [
       "array([[ 10,  11,  12,  13,  14],\n",
       "       [155, 156, 157, 158, 159],\n",
       "       [ 15,  16,  17,  18,  19],\n",
       "       [105, 106, 107, 108, 109],\n",
       "       [135, 136, 137, 138, 139],\n",
       "       [145, 146, 147, 148, 149],\n",
       "       [110, 111, 112, 113, 114],\n",
       "       [195, 196, 197, 198, 199],\n",
       "       [ 95,  96,  97,  98,  99],\n",
       "       [130, 131, 132, 133, 134],\n",
       "       [345, 346, 347, 348, 349],\n",
       "       [410, 411, 412, 413, 414],\n",
       "       [270, 271, 272, 273, 274],\n",
       "       [655, 656, 657, 658, 659],\n",
       "       [605, 606, 607, 608, 609],\n",
       "       [295, 296, 297, 298, 299],\n",
       "       [420, 421, 422, 423, 424],\n",
       "       [255, 256, 257, 258, 259],\n",
       "       [400, 401, 402, 403, 404],\n",
       "       [685, 686, 687, 688, 689]])"
      ]
     },
     "execution_count": 32,
     "metadata": {},
     "output_type": "execute_result"
    }
   ],
   "source": [
    "# way2\n",
    "# 方法1跟方法2最大的差別在於篩選方式不一樣。\n",
    "index_y_0 = np.where(y==0)[0]\n",
    "index_y_1 = np.where(y==1)[0]\n",
    "\n",
    "train_1_X, test_1_X, train_1_Y, test_1_Y = train_test_split(X[index_y_1], y[index_y_1], test_size=10, random_state=1)\n",
    "\n",
    "train_2_X, test_2_X, train_2_Y, test_2_Y = train_test_split(X[index_y_0], y[index_y_0], test_size=10, random_state=1)\n",
    "\n",
    "train_X = np.concatenate([train_1_X, train_2_X], axis=0)\n",
    "test_X = np.concatenate([test_1_X, test_2_X], axis=0)\n",
    "\n",
    "train_Y = np.concatenate([train_1_Y, train_2_Y], axis=0)\n",
    "test_Y = np.concatenate([test_1_Y, test_2_Y], axis=0)\n",
    "test_X"
   ]
  }
 ],
 "metadata": {
  "kernelspec": {
   "display_name": "Python 3",
   "language": "python",
   "name": "python3"
  },
  "language_info": {
   "codemirror_mode": {
    "name": "ipython",
    "version": 3
   },
   "file_extension": ".py",
   "mimetype": "text/x-python",
   "name": "python",
   "nbconvert_exporter": "python",
   "pygments_lexer": "ipython3",
   "version": "3.7.4"
  }
 },
 "nbformat": 4,
 "nbformat_minor": 4
}
