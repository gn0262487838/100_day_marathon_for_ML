{
 "cells": [
  {
   "cell_type": "code",
   "execution_count": 20,
   "metadata": {},
   "outputs": [
    {
     "output_type": "stream",
     "name": "stdout",
     "text": "看一下train的形狀:  (1000, 40)\n看一下train target的形狀:  (1000, 1)\n看一下test的形狀:  (8999, 40)\n"
    }
   ],
   "source": [
    "import pandas as pd\n",
    "import matplotlib.pyplot as plt\n",
    "from sklearn.model_selection import train_test_split, GridSearchCV\n",
    "from sklearn.ensemble import RandomForestClassifier, GradientBoostingClassifier\n",
    "from sklearn.metrics import accuracy_score\n",
    "\n",
    "trainDf = pd.read_csv(\"./train.csv\", encoding=\"utf-8\", names=[i for i in range(40)])\n",
    "targetDf = pd.read_csv(\"./trainLabels.csv\", encoding=\"utf-8\", names=[\"target\"])\n",
    "testDf = pd.read_csv(\"./test.csv\", encoding=\"utf-8\")\n",
    "print(\"看一下train的形狀: \", trainDf.shape)\n",
    "print(\"看一下train target的形狀: \", targetDf.shape)\n",
    "print(\"看一下test的形狀: \", testDf.shape)"
   ]
  },
  {
   "cell_type": "code",
   "execution_count": 14,
   "metadata": {},
   "outputs": [
    {
     "output_type": "execute_result",
     "data": {
      "text/plain": "          0         1         2         3         4         5         6  \\\n0  0.299403 -1.226624  1.498425 -1.176150  5.289853  0.208297  2.404498   \n1 -1.174176  0.332157  0.949919 -1.285328  2.199061 -0.151268 -0.427039   \n2  1.192222 -0.414371  0.067054 -2.233568  3.658881  0.089007  0.203439   \n3  1.573270 -0.580318 -0.866332 -0.603812  3.125716  0.870321 -0.161992   \n4 -0.613071 -0.644204  1.112558 -0.032397  3.490142 -0.011935  1.443521   \n\n          7         8         9  ...        31        32        33        34  \\\n0  1.594506 -0.051608  0.663234  ... -0.622990 -1.833057  0.293024  3.552681   \n1  2.619246 -0.765884 -0.093780  ...  0.012037  2.038836  0.468579 -0.517657   \n2 -4.219054 -1.184919 -1.240310  ...  0.750054 -3.360521  0.856988 -2.751451   \n3  4.499666  1.038741 -1.092716  ...  1.275598 -3.480110 -1.065252  2.153133   \n4 -4.290282 -1.761308  0.807652  ... -1.803473  0.518579 -0.205029 -4.744566   \n\n         35        36        37        38        39  target  \n0  0.717611  3.305972 -2.715559 -2.682409  0.101050       1  \n1  0.422326  0.803699  1.213219  1.382932 -1.817761       0  \n2 -1.582735  1.672246  0.656438 -0.932473  2.987436       0  \n3  1.563539  2.767117  0.215748  0.619645  1.883397       1  \n4 -1.520015  1.830651  0.870772 -1.894609  0.408332       0  \n\n[5 rows x 41 columns]",
      "text/html": "<div>\n<style scoped>\n    .dataframe tbody tr th:only-of-type {\n        vertical-align: middle;\n    }\n\n    .dataframe tbody tr th {\n        vertical-align: top;\n    }\n\n    .dataframe thead th {\n        text-align: right;\n    }\n</style>\n<table border=\"1\" class=\"dataframe\">\n  <thead>\n    <tr style=\"text-align: right;\">\n      <th></th>\n      <th>0</th>\n      <th>1</th>\n      <th>2</th>\n      <th>3</th>\n      <th>4</th>\n      <th>5</th>\n      <th>6</th>\n      <th>7</th>\n      <th>8</th>\n      <th>9</th>\n      <th>...</th>\n      <th>31</th>\n      <th>32</th>\n      <th>33</th>\n      <th>34</th>\n      <th>35</th>\n      <th>36</th>\n      <th>37</th>\n      <th>38</th>\n      <th>39</th>\n      <th>target</th>\n    </tr>\n  </thead>\n  <tbody>\n    <tr>\n      <th>0</th>\n      <td>0.299403</td>\n      <td>-1.226624</td>\n      <td>1.498425</td>\n      <td>-1.176150</td>\n      <td>5.289853</td>\n      <td>0.208297</td>\n      <td>2.404498</td>\n      <td>1.594506</td>\n      <td>-0.051608</td>\n      <td>0.663234</td>\n      <td>...</td>\n      <td>-0.622990</td>\n      <td>-1.833057</td>\n      <td>0.293024</td>\n      <td>3.552681</td>\n      <td>0.717611</td>\n      <td>3.305972</td>\n      <td>-2.715559</td>\n      <td>-2.682409</td>\n      <td>0.101050</td>\n      <td>1</td>\n    </tr>\n    <tr>\n      <th>1</th>\n      <td>-1.174176</td>\n      <td>0.332157</td>\n      <td>0.949919</td>\n      <td>-1.285328</td>\n      <td>2.199061</td>\n      <td>-0.151268</td>\n      <td>-0.427039</td>\n      <td>2.619246</td>\n      <td>-0.765884</td>\n      <td>-0.093780</td>\n      <td>...</td>\n      <td>0.012037</td>\n      <td>2.038836</td>\n      <td>0.468579</td>\n      <td>-0.517657</td>\n      <td>0.422326</td>\n      <td>0.803699</td>\n      <td>1.213219</td>\n      <td>1.382932</td>\n      <td>-1.817761</td>\n      <td>0</td>\n    </tr>\n    <tr>\n      <th>2</th>\n      <td>1.192222</td>\n      <td>-0.414371</td>\n      <td>0.067054</td>\n      <td>-2.233568</td>\n      <td>3.658881</td>\n      <td>0.089007</td>\n      <td>0.203439</td>\n      <td>-4.219054</td>\n      <td>-1.184919</td>\n      <td>-1.240310</td>\n      <td>...</td>\n      <td>0.750054</td>\n      <td>-3.360521</td>\n      <td>0.856988</td>\n      <td>-2.751451</td>\n      <td>-1.582735</td>\n      <td>1.672246</td>\n      <td>0.656438</td>\n      <td>-0.932473</td>\n      <td>2.987436</td>\n      <td>0</td>\n    </tr>\n    <tr>\n      <th>3</th>\n      <td>1.573270</td>\n      <td>-0.580318</td>\n      <td>-0.866332</td>\n      <td>-0.603812</td>\n      <td>3.125716</td>\n      <td>0.870321</td>\n      <td>-0.161992</td>\n      <td>4.499666</td>\n      <td>1.038741</td>\n      <td>-1.092716</td>\n      <td>...</td>\n      <td>1.275598</td>\n      <td>-3.480110</td>\n      <td>-1.065252</td>\n      <td>2.153133</td>\n      <td>1.563539</td>\n      <td>2.767117</td>\n      <td>0.215748</td>\n      <td>0.619645</td>\n      <td>1.883397</td>\n      <td>1</td>\n    </tr>\n    <tr>\n      <th>4</th>\n      <td>-0.613071</td>\n      <td>-0.644204</td>\n      <td>1.112558</td>\n      <td>-0.032397</td>\n      <td>3.490142</td>\n      <td>-0.011935</td>\n      <td>1.443521</td>\n      <td>-4.290282</td>\n      <td>-1.761308</td>\n      <td>0.807652</td>\n      <td>...</td>\n      <td>-1.803473</td>\n      <td>0.518579</td>\n      <td>-0.205029</td>\n      <td>-4.744566</td>\n      <td>-1.520015</td>\n      <td>1.830651</td>\n      <td>0.870772</td>\n      <td>-1.894609</td>\n      <td>0.408332</td>\n      <td>0</td>\n    </tr>\n  </tbody>\n</table>\n<p>5 rows × 41 columns</p>\n</div>"
     },
     "metadata": {},
     "execution_count": 14
    }
   ],
   "source": [
    "df = pd.concat([trainDf, targetDf], axis=1)\n",
    "df.head()"
   ]
  },
  {
   "cell_type": "code",
   "execution_count": 15,
   "metadata": {},
   "outputs": [
    {
     "output_type": "stream",
     "name": "stdout",
     "text": "準確率:  0.884\n"
    }
   ],
   "source": [
    "x_train, x_test, y_train, y_test = train_test_split(trainDf, targetDf, test_size=0.25, random_state=1)\n",
    "\n",
    "rfc = RandomForestClassifier(n_estimators=100, criterion=\"gini\", max_depth=None)\n",
    "rfc.fit(x_train, y_train)\n",
    "pred = rfc.predict(x_test)\n",
    "acc = accuracy_score(y_test, pred)\n",
    "print(\"準確率: \", acc)"
   ]
  },
  {
   "cell_type": "code",
   "execution_count": 18,
   "metadata": {},
   "outputs": [
    {
     "output_type": "stream",
     "name": "stdout",
     "text": "Fitting 10 folds for each of 400 candidates, totalling 4000 fits\n[Parallel(n_jobs=4)]: Using backend LokyBackend with 4 concurrent workers.\n[Parallel(n_jobs=4)]: Done 200 tasks      | elapsed:    2.9s\n[Parallel(n_jobs=4)]: Done 1254 tasks      | elapsed:   25.5s\n[Parallel(n_jobs=4)]: Done 2244 tasks      | elapsed:   54.2s\n[Parallel(n_jobs=4)]: Done 3644 tasks      | elapsed:  1.6min\n[Parallel(n_jobs=4)]: Done 3993 out of 4000 | elapsed:  1.8min remaining:    0.1s\n[Parallel(n_jobs=4)]: Done 4000 out of 4000 | elapsed:  1.8min finished\n\n看一下最佳分數: 0.868\n看一下最佳參數組合: {'max_depth': 11, 'n_estimators': 96}\n\n"
    }
   ],
   "source": [
    "params = {\n",
    "    \"n_estimators\":[i+1 for i in range(0,100,5)],\n",
    "    \"max_depth\":[i+1 for i in range(20)]\n",
    "}\n",
    "\n",
    "grid = GridSearchCV(rfc, params,cv=10, n_jobs=4, verbose=1)\n",
    "gridResult = grid.fit(x_train, y_train)\n",
    "\n",
    "print(f'''\n",
    "看一下最佳分數: {gridResult.best_score_}\n",
    "看一下最佳參數組合: {gridResult.best_params_}\n",
    "''')"
   ]
  },
  {
   "cell_type": "code",
   "execution_count": 19,
   "metadata": {},
   "outputs": [
    {
     "output_type": "stream",
     "name": "stdout",
     "text": "使用最佳參數後的準確率:  0.888\n"
    }
   ],
   "source": [
    "rfc = RandomForestClassifier(n_estimators=96, criterion=\"gini\",max_depth=11)\n",
    "rfc.fit(x_train, y_train)\n",
    "pred = rfc.predict(x_test)\n",
    "acc = accuracy_score(y_test, pred)\n",
    "print(\"使用最佳參數後的準確率: \", acc)"
   ]
  },
  {
   "cell_type": "code",
   "execution_count": 23,
   "metadata": {},
   "outputs": [
    {
     "output_type": "stream",
     "name": "stdout",
     "text": "使用GB演算法 準確率:  0.876\n"
    }
   ],
   "source": [
    "'''\n",
    "\n",
    "試試看另外一種演算法\n",
    "\n",
    "'''\n",
    "\n",
    "gbc = GradientBoostingClassifier(n_estimators=100, max_depth=3)\n",
    "gbc.fit(x_train, y_train)\n",
    "pred = gbc.predict(x_test)\n",
    "acc = accuracy_score(y_test, pred)\n",
    "print(\"使用GB演算法 準確率: \", acc)"
   ]
  },
  {
   "cell_type": "code",
   "execution_count": 25,
   "metadata": {},
   "outputs": [
    {
     "output_type": "stream",
     "name": "stdout",
     "text": "Fitting 5 folds for each of 400 candidates, totalling 2000 fits\n[Parallel(n_jobs=4)]: Using backend LokyBackend with 4 concurrent workers.\n[Parallel(n_jobs=4)]: Done  80 tasks      | elapsed:    2.6s\n[Parallel(n_jobs=4)]: Done 404 tasks      | elapsed:   21.0s\n[Parallel(n_jobs=4)]: Done 654 tasks      | elapsed:   46.2s\n[Parallel(n_jobs=4)]: Done 1004 tasks      | elapsed:  1.5min\n[Parallel(n_jobs=4)]: Done 1454 tasks      | elapsed:  2.5min\n[Parallel(n_jobs=4)]: Done 2000 out of 2000 | elapsed:  3.7min finished\n\n看一下最佳分數: 0.8733333333333333\n看一下最佳參數組合: {'max_depth': 5, 'n_estimators': 86}\n\n"
    }
   ],
   "source": [
    "grid = GridSearchCV(gbc, params, n_jobs=4, verbose=1)\n",
    "gridResult = grid.fit(x_train, y_train)\n",
    "\n",
    "print(f'''\n",
    "看一下最佳分數: {gridResult.best_score_}\n",
    "看一下最佳參數組合: {gridResult.best_params_}\n",
    "''')"
   ]
  },
  {
   "cell_type": "code",
   "execution_count": 26,
   "metadata": {},
   "outputs": [
    {
     "output_type": "stream",
     "name": "stdout",
     "text": "使用GB演算法並使用最佳參數 準確率:  0.892\n"
    }
   ],
   "source": [
    "gbc = GradientBoostingClassifier(n_estimators=86, max_depth=5)\n",
    "gbc.fit(x_train, y_train)\n",
    "pred = gbc.predict(x_test)\n",
    "acc = accuracy_score(y_test, pred)\n",
    "print(\"使用GB演算法並使用最佳參數 準確率: \", acc)"
   ]
  },
  {
   "cell_type": "code",
   "execution_count": 28,
   "metadata": {},
   "outputs": [
    {
     "output_type": "execute_result",
     "data": {
      "text/plain": "array([1, 0, 1, ..., 1, 0, 1], dtype=int64)"
     },
     "metadata": {},
     "execution_count": 28
    }
   ],
   "source": [
    "'''\n",
    "\n",
    "採用 GB 、參數使用 n_estimators=86, max_depth=5 \n",
    "\n",
    "'''\n",
    "\n",
    "df = pd.read_csv(\"./test.csv\", encoding=\"utf-8\", names=[i+1 for i in range(40)])\n",
    "\n",
    "pred = gbc.predict(df)\n",
    "pred"
   ]
  },
  {
   "cell_type": "code",
   "execution_count": 30,
   "metadata": {},
   "outputs": [
    {
     "output_type": "execute_result",
     "data": {
      "text/plain": "   Id  Solution\n0   1         1\n1   2         0\n2   3         1\n3   4         0\n4   5         0",
      "text/html": "<div>\n<style scoped>\n    .dataframe tbody tr th:only-of-type {\n        vertical-align: middle;\n    }\n\n    .dataframe tbody tr th {\n        vertical-align: top;\n    }\n\n    .dataframe thead th {\n        text-align: right;\n    }\n</style>\n<table border=\"1\" class=\"dataframe\">\n  <thead>\n    <tr style=\"text-align: right;\">\n      <th></th>\n      <th>Id</th>\n      <th>Solution</th>\n    </tr>\n  </thead>\n  <tbody>\n    <tr>\n      <th>0</th>\n      <td>1</td>\n      <td>1</td>\n    </tr>\n    <tr>\n      <th>1</th>\n      <td>2</td>\n      <td>0</td>\n    </tr>\n    <tr>\n      <th>2</th>\n      <td>3</td>\n      <td>1</td>\n    </tr>\n    <tr>\n      <th>3</th>\n      <td>4</td>\n      <td>0</td>\n    </tr>\n    <tr>\n      <th>4</th>\n      <td>5</td>\n      <td>0</td>\n    </tr>\n  </tbody>\n</table>\n</div>"
     },
     "metadata": {},
     "execution_count": 30
    }
   ],
   "source": [
    "dict_ = {\n",
    "    \"Id\":[i for i in range(1,9001)],\n",
    "    \"Solution\":pred\n",
    "}\n",
    "\n",
    "df = pd.DataFrame(dict_)\n",
    "df.head()"
   ]
  },
  {
   "cell_type": "code",
   "execution_count": 32,
   "metadata": {},
   "outputs": [],
   "source": [
    "df.to_csv(\"./predict.csv\", encoding=\"utf-8\", index=False)"
   ]
  }
 ],
 "metadata": {
  "language_info": {
   "codemirror_mode": {
    "name": "ipython",
    "version": 3
   },
   "file_extension": ".py",
   "mimetype": "text/x-python",
   "name": "python",
   "nbconvert_exporter": "python",
   "pygments_lexer": "ipython3",
   "version": "3.8.1-final"
  },
  "orig_nbformat": 2,
  "kernelspec": {
   "name": "python38164bitvenvvenv958d7ec69e1049fa82d540097cf013e2",
   "display_name": "Python 3.8.1 64-bit ('.venv': venv)"
  }
 },
 "nbformat": 4,
 "nbformat_minor": 2
}