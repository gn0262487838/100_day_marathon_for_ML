{
 "cells": [
  {
   "cell_type": "code",
   "execution_count": 1,
   "metadata": {
    "tags": []
   },
   "outputs": [
    {
     "output_type": "stream",
     "name": "stderr",
     "text": "Using TensorFlow backend.\n"
    }
   ],
   "source": [
    "import keras\n",
    "from keras.datasets import cifar10\n",
    "from keras.preprocessing.image import ImageDataGenerator\n",
    "from keras.models import Sequential\n",
    "from keras.layers import Dense, Dropout, Activation, Flatten\n",
    "from keras.layers import Conv2D, MaxPooling2D\n",
    "from keras.optimizers import RMSprop, Adam\n",
    "import os"
   ]
  },
  {
   "cell_type": "code",
   "execution_count": 2,
   "metadata": {
    "tags": []
   },
   "outputs": [
    {
     "output_type": "stream",
     "name": "stdout",
     "text": "x_train shape: (50000, 32, 32, 3)\n50000 train samples\n10000 test samples\n"
    }
   ],
   "source": [
    "batch_size = 128 # batch 的大小，如果出現 OOM error，請降低這個值\n",
    "num_classes = 10 # 類別的數量，Cifar 10 共有 10 個類別\n",
    "epochs = 10 # 訓練的 epochs 數量\n",
    "\n",
    "# 讀取資料並檢視\n",
    "(x_train, y_train), (x_test, y_test) = cifar10.load_data()\n",
    "print('x_train shape:', x_train.shape)\n",
    "print(x_train.shape[0], 'train samples')\n",
    "print(x_test.shape[0], 'test samples')\n",
    "\n",
    "# 對 label 進行 one-hot encoding (y_trian 原本是純數字)\n",
    "y_train = keras.utils.to_categorical(y_train, num_classes)\n",
    "y_test = keras.utils.to_categorical(y_test, num_classes)"
   ]
  },
  {
   "cell_type": "markdown",
   "metadata": {},
   "source": [
    "## 首先我們使用一般的 DNN (MLP) 來訓練\n",
    "由於 DNN 只能輸入一維的資料，我們要先將影像進行攤平，若 (50000, 32, 32, 3) 的影像，攤平後會變成 (50000, 32*32*3) = (50000, 3072)"
   ]
  },
  {
   "cell_type": "code",
   "execution_count": 3,
   "metadata": {
    "tags": []
   },
   "outputs": [
    {
     "output_type": "stream",
     "name": "stdout",
     "text": "50000 train samples\n10000 test samples\n"
    }
   ],
   "source": [
    "# 將資料攤平成一維資料\n",
    "x_train = x_train.reshape(50000, 3072) \n",
    "x_test = x_test.reshape(10000, 3072)\n",
    "\n",
    "# 將資料變為 float32 並標準化\n",
    "x_train = x_train.astype('float32')\n",
    "x_test = x_test.astype('float32')\n",
    "x_train /= 255\n",
    "x_test /= 255\n",
    "print(x_train.shape[0], 'train samples')\n",
    "print(x_test.shape[0], 'test samples')"
   ]
  },
  {
   "cell_type": "code",
   "execution_count": 4,
   "metadata": {
    "tags": []
   },
   "outputs": [
    {
     "output_type": "stream",
     "name": "stdout",
     "text": "Model: \"sequential_1\"\n_________________________________________________________________\nLayer (type)                 Output Shape              Param #   \n=================================================================\ndense_1 (Dense)              (None, 512)               1573376   \n_________________________________________________________________\ndropout_1 (Dropout)          (None, 512)               0         \n_________________________________________________________________\ndense_2 (Dense)              (None, 512)               262656    \n_________________________________________________________________\ndropout_2 (Dropout)          (None, 512)               0         \n_________________________________________________________________\ndense_3 (Dense)              (None, 10)                5130      \n=================================================================\nTotal params: 1,841,162\nTrainable params: 1,841,162\nNon-trainable params: 0\n_________________________________________________________________\nTrain on 50000 samples, validate on 10000 samples\nEpoch 1/10\n50000/50000 [==============================] - 7s 135us/step - loss: 2.1254 - accuracy: 0.2471 - val_loss: 1.8878 - val_accuracy: 0.3151\nEpoch 2/10\n50000/50000 [==============================] - 6s 119us/step - loss: 1.8604 - accuracy: 0.3240 - val_loss: 1.7668 - val_accuracy: 0.3667\nEpoch 3/10\n50000/50000 [==============================] - 5s 95us/step - loss: 1.7920 - accuracy: 0.3537 - val_loss: 1.7038 - val_accuracy: 0.3871\nEpoch 4/10\n50000/50000 [==============================] - 5s 92us/step - loss: 1.7382 - accuracy: 0.3735 - val_loss: 1.6625 - val_accuracy: 0.4110\nEpoch 5/10\n50000/50000 [==============================] - 5s 92us/step - loss: 1.7005 - accuracy: 0.3900 - val_loss: 1.6692 - val_accuracy: 0.4120\nEpoch 6/10\n50000/50000 [==============================] - 5s 91us/step - loss: 1.6728 - accuracy: 0.4011 - val_loss: 1.5983 - val_accuracy: 0.4328\nEpoch 7/10\n50000/50000 [==============================] - 4s 90us/step - loss: 1.6478 - accuracy: 0.4081 - val_loss: 1.6270 - val_accuracy: 0.4140\nEpoch 8/10\n50000/50000 [==============================] - 4s 90us/step - loss: 1.6310 - accuracy: 0.4141 - val_loss: 1.5484 - val_accuracy: 0.4553\nEpoch 9/10\n50000/50000 [==============================] - 4s 89us/step - loss: 1.6182 - accuracy: 0.4202 - val_loss: 1.5742 - val_accuracy: 0.4377\nEpoch 10/10\n50000/50000 [==============================] - 4s 89us/step - loss: 1.6036 - accuracy: 0.4271 - val_loss: 1.5632 - val_accuracy: 0.4577\nTest loss: 1.563190651321411\nTest accuracy: 0.4577000141143799\n"
    }
   ],
   "source": [
    "model = Sequential()\n",
    "model.add(Dense(512, activation='relu', input_shape=(3072,)))\n",
    "model.add(Dropout(0.2))\n",
    "model.add(Dense(512, activation='relu'))\n",
    "model.add(Dropout(0.2))\n",
    "model.add(Dense(num_classes, activation='softmax'))\n",
    "\n",
    "model.summary()\n",
    "\n",
    "model.compile(loss='categorical_crossentropy',\n",
    "              optimizer=RMSprop(),\n",
    "              metrics=['accuracy'])\n",
    "\n",
    "history = model.fit(x_train, y_train,\n",
    "                    batch_size=batch_size,\n",
    "                    epochs=epochs,\n",
    "                    verbose=1,\n",
    "                    validation_data=(x_test, y_test))\n",
    "score = model.evaluate(x_test, y_test, verbose=0)\n",
    "print('Test loss:', score[0])\n",
    "print('Test accuracy:', score[1])"
   ]
  },
  {
   "cell_type": "markdown",
   "metadata": {},
   "source": [
    "## 接下來我們使用 CNN 來訓練神經網路\n",
    "CNN 的原理非常適合處理影像類的資料，就讓我們來看看，同樣的訓練條件，CNN 是否顯著優於 DNN 呢?"
   ]
  },
  {
   "cell_type": "code",
   "execution_count": 5,
   "metadata": {
    "tags": []
   },
   "outputs": [
    {
     "output_type": "stream",
     "name": "stdout",
     "text": "x_train shape: (50000, 32, 32, 3)\n50000 train samples\n10000 test samples\n"
    }
   ],
   "source": [
    "(x_train, y_train), (x_test, y_test) = cifar10.load_data()\n",
    "print('x_train shape:', x_train.shape)\n",
    "print(x_train.shape[0], 'train samples')\n",
    "print(x_test.shape[0], 'test samples')\n",
    "x_train = x_train.astype('float32')\n",
    "x_test = x_test.astype('float32')\n",
    "x_train /= 255\n",
    "x_test /= 255\n",
    "\n",
    "# Convert class vectors to binary class matrices.\n",
    "y_train = keras.utils.to_categorical(y_train, num_classes)\n",
    "y_test = keras.utils.to_categorical(y_test, num_classes)"
   ]
  },
  {
   "cell_type": "code",
   "execution_count": 7,
   "metadata": {
    "tags": []
   },
   "outputs": [
    {
     "output_type": "stream",
     "name": "stdout",
     "text": "Model: \"sequential_3\"\n_________________________________________________________________\nLayer (type)                 Output Shape              Param #   \n=================================================================\nconv2d_5 (Conv2D)            (None, 32, 32, 32)        896       \n_________________________________________________________________\nactivation_7 (Activation)    (None, 32, 32, 32)        0         \n_________________________________________________________________\nconv2d_6 (Conv2D)            (None, 30, 30, 32)        9248      \n_________________________________________________________________\nactivation_8 (Activation)    (None, 30, 30, 32)        0         \n_________________________________________________________________\nmax_pooling2d_3 (MaxPooling2 (None, 15, 15, 32)        0         \n_________________________________________________________________\ndropout_6 (Dropout)          (None, 15, 15, 32)        0         \n_________________________________________________________________\nconv2d_7 (Conv2D)            (None, 15, 15, 64)        18496     \n_________________________________________________________________\nactivation_9 (Activation)    (None, 15, 15, 64)        0         \n_________________________________________________________________\nconv2d_8 (Conv2D)            (None, 13, 13, 64)        36928     \n_________________________________________________________________\nactivation_10 (Activation)   (None, 13, 13, 64)        0         \n_________________________________________________________________\nmax_pooling2d_4 (MaxPooling2 (None, 6, 6, 64)          0         \n_________________________________________________________________\ndropout_7 (Dropout)          (None, 6, 6, 64)          0         \n_________________________________________________________________\nflatten_2 (Flatten)          (None, 2304)              0         \n_________________________________________________________________\ndense_6 (Dense)              (None, 512)               1180160   \n_________________________________________________________________\nactivation_11 (Activation)   (None, 512)               0         \n_________________________________________________________________\ndropout_8 (Dropout)          (None, 512)               0         \n_________________________________________________________________\ndense_7 (Dense)              (None, 10)                5130      \n_________________________________________________________________\nactivation_12 (Activation)   (None, 10)                0         \n=================================================================\nTotal params: 1,250,858\nTrainable params: 1,250,858\nNon-trainable params: 0\n_________________________________________________________________\nTrain on 50000 samples, validate on 10000 samples\nEpoch 1/10\n50000/50000 [==============================] - 45s 893us/step - loss: 1.6444 - accuracy: 0.3980 - val_loss: 1.2895 - val_accuracy: 0.5335\nEpoch 2/10\n50000/50000 [==============================] - 43s 869us/step - loss: 1.2738 - accuracy: 0.5406 - val_loss: 1.1196 - val_accuracy: 0.6077\nEpoch 3/10\n50000/50000 [==============================] - 45s 892us/step - loss: 1.0927 - accuracy: 0.6131 - val_loss: 0.9511 - val_accuracy: 0.6685\nEpoch 4/10\n50000/50000 [==============================] - 44s 878us/step - loss: 0.9707 - accuracy: 0.6571 - val_loss: 0.8656 - val_accuracy: 0.6980\nEpoch 5/10\n50000/50000 [==============================] - 44s 878us/step - loss: 0.8828 - accuracy: 0.6901 - val_loss: 0.7948 - val_accuracy: 0.7250\nEpoch 6/10\n50000/50000 [==============================] - 44s 883us/step - loss: 0.8147 - accuracy: 0.7126 - val_loss: 0.7671 - val_accuracy: 0.7325\nEpoch 7/10\n50000/50000 [==============================] - 44s 890us/step - loss: 0.7690 - accuracy: 0.7319 - val_loss: 0.7156 - val_accuracy: 0.7532\nEpoch 8/10\n50000/50000 [==============================] - 45s 896us/step - loss: 0.7302 - accuracy: 0.7427 - val_loss: 0.7018 - val_accuracy: 0.7591\nEpoch 9/10\n50000/50000 [==============================] - 44s 881us/step - loss: 0.6918 - accuracy: 0.7551 - val_loss: 0.7094 - val_accuracy: 0.7517\nEpoch 10/10\n50000/50000 [==============================] - 43s 865us/step - loss: 0.6623 - accuracy: 0.7664 - val_loss: 0.6635 - val_accuracy: 0.7706\nTest loss: 0.6635178277015686\nTest accuracy: 0.7706000208854675\n"
    }
   ],
   "source": [
    "model = Sequential()\n",
    "model.add(Conv2D(32, (3, 3), padding='same',\n",
    "                 input_shape=x_train.shape[1:]))\n",
    "model.add(Activation('relu'))\n",
    "model.add(Conv2D(32, (3, 3)))\n",
    "model.add(Activation('relu'))\n",
    "model.add(MaxPooling2D(pool_size=(2, 2)))\n",
    "model.add(Dropout(0.25))\n",
    "\n",
    "model.add(Conv2D(64, (3, 3), padding='same'))\n",
    "model.add(Activation('relu'))\n",
    "model.add(Conv2D(64, (3, 3)))\n",
    "model.add(Activation('relu'))\n",
    "model.add(MaxPooling2D(pool_size=(2, 2)))\n",
    "model.add(Dropout(0.25))\n",
    "\n",
    "model.add(Flatten())\n",
    "model.add(Dense(512))\n",
    "model.add(Activation('relu'))\n",
    "model.add(Dropout(0.5))\n",
    "model.add(Dense(num_classes))\n",
    "model.add(Activation('softmax'))\n",
    "model.summary()\n",
    "\n",
    "model.compile(loss='categorical_crossentropy',\n",
    "              optimizer=\"Adam\",\n",
    "              metrics=['accuracy'])\n",
    "\n",
    "history = model.fit(x_train, y_train,\n",
    "                    batch_size=batch_size,\n",
    "                    epochs=epochs,\n",
    "                    verbose=1,\n",
    "                    validation_data=(x_test, y_test))\n",
    "score = model.evaluate(x_test, y_test, verbose=0)\n",
    "print('Test loss:', score[0])\n",
    "print('Test accuracy:', score[1])"
   ]
  },
  {
   "cell_type": "markdown",
   "metadata": {},
   "source": [
    "## 同樣運算 10 個 epochs，但 CNN 在 test data 的準確率顯著優於 DNN!"
   ]
  },
  {
   "cell_type": "markdown",
   "metadata": {},
   "source": [
    "## 作業\n",
    "1. 請試著調整各個超參數，並說明那些超參數對於結果有明顯的影響? 目前只修改optimizer為adam，就提高準確率約0.03\n",
    "2. CNN 與 DNN 哪個模型的參數數量比較多? DNN\n",
    "3. 造成參數的數量不同的原因在哪? 因為資料一開始就攤平，直接進dense，而cnn模型則是先conv得到特徵圖在攤平，就會比較少參數。"
   ]
  },
  {
   "cell_type": "code",
   "execution_count": null,
   "metadata": {},
   "outputs": [],
   "source": []
  }
 ],
 "metadata": {
  "kernelspec": {
   "display_name": "Python 3",
   "language": "python",
   "name": "python3"
  },
  "language_info": {
   "codemirror_mode": {
    "name": "ipython",
    "version": 3
   },
   "file_extension": ".py",
   "mimetype": "text/x-python",
   "name": "python",
   "nbconvert_exporter": "python",
   "pygments_lexer": "ipython3",
   "version": "3.6.9-final"
  }
 },
 "nbformat": 4,
 "nbformat_minor": 2
}