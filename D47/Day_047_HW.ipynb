{
 "cells": [
  {
   "cell_type": "markdown",
   "metadata": {},
   "source": [
    "## [作業重點]\n",
    "了解如何使用 Sklearn 中的 hyper-parameter search 找出最佳的超參數"
   ]
  },
  {
   "cell_type": "markdown",
   "metadata": {},
   "source": [
    "### 作業\n",
    "請使用不同的資料集，並使用 hyper-parameter search 的方式，看能不能找出最佳的超參數組合"
   ]
  },
  {
   "cell_type": "code",
   "execution_count": 4,
   "metadata": {},
   "outputs": [],
   "source": [
    "from sklearn.datasets import load_wine\n",
    "from sklearn.model_selection import train_test_split, KFold, GridSearchCV\n",
    "from sklearn.ensemble import GradientBoostingClassifier\n",
    "from sklearn.metrics import accuracy_score\n",
    "\n",
    "data = load_wine()\n",
    "x_train, x_test, y_train, y_test = train_test_split(data.data, data.target, test_size=0.25, random_state=1)"
   ]
  },
  {
   "cell_type": "code",
   "execution_count": 5,
   "metadata": {},
   "outputs": [
    {
     "output_type": "stream",
     "name": "stdout",
     "text": "準確率:  0.9555555555555556\n"
    }
   ],
   "source": [
    "gbc = GradientBoostingClassifier()\n",
    "gbc.fit(x_train, y_train)\n",
    "pred = gbc.predict(x_test)\n",
    "acc = accuracy_score(y_test, pred)\n",
    "print(\"準確率: \", acc)"
   ]
  },
  {
   "cell_type": "code",
   "execution_count": 12,
   "metadata": {},
   "outputs": [
    {
     "output_type": "stream",
     "name": "stdout",
     "text": "找到較好分數:  0.9695156695156696\n較好的參數:  {'max_depth': 3, 'n_estimators': 10}\n"
    }
   ],
   "source": [
    "n_estimators = [10,20,30,50,100]\n",
    "max_depth = [3,5,7]\n",
    "\n",
    "params = {\n",
    "    \"n_estimators\":n_estimators,\n",
    "    \"max_depth\":max_depth\n",
    "}\n",
    "\n",
    "grid_search = GridSearchCV(gbc, params, scoring=\"accuracy\")\n",
    "grid_result = grid_search.fit(x_train, y_train)\n",
    "print(\"找到較好分數: \", grid_result.best_score_)\n",
    "print(\"較好的參數: \", grid_result.best_params_)"
   ]
  },
  {
   "cell_type": "code",
   "execution_count": 40,
   "metadata": {},
   "outputs": [
    {
     "output_type": "stream",
     "name": "stdout",
     "text": "準確率:  0.9777777777777777\n"
    }
   ],
   "source": [
    "gbc = GradientBoostingClassifier(n_estimators=10, max_depth=3)\n",
    "gbc.fit(x_train, y_train)\n",
    "pred = gbc.predict(x_test)\n",
    "acc = accuracy_score(y_test, pred)\n",
    "print(\"準確率: \", acc)"
   ]
  },
  {
   "cell_type": "code",
   "execution_count": null,
   "metadata": {},
   "outputs": [],
   "source": []
  }
 ],
 "metadata": {
  "kernelspec": {
   "display_name": "Python 3.8.1 64-bit ('.venv': venv)",
   "language": "python",
   "name": "python38164bitvenvvenv958d7ec69e1049fa82d540097cf013e2"
  },
  "language_info": {
   "codemirror_mode": {
    "name": "ipython",
    "version": 3
   },
   "file_extension": ".py",
   "mimetype": "text/x-python",
   "name": "python",
   "nbconvert_exporter": "python",
   "pygments_lexer": "ipython3",
   "version": "3.8.1-final"
  }
 },
 "nbformat": 4,
 "nbformat_minor": 2
}